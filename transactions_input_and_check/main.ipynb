{
 "cells": [
  {
   "cell_type": "code",
   "execution_count": 1,
   "metadata": {},
   "outputs": [],
   "source": [
    "import numpy as np\n",
    "import pandas as pd\n",
    "import csv"
   ]
  },
  {
   "cell_type": "code",
   "execution_count": 9,
   "metadata": {},
   "outputs": [],
   "source": [
    "class CSV:\n",
    "    COLUMNS = ['date', 'amount', 'category', 'description']\n",
    "    CSVFILE = 'test_csvfile.csv'\n",
    "\n",
    "    @classmethod\n",
    "    def initialize_csv(cls):\n",
    "        try:\n",
    "            pd.read_csv(cls.CSVFILE)\n",
    "        except FileNotFoundError:\n",
    "            df = pd.DataFrame(columns=cls.COLUMNS)\n",
    "            df.to_csv(cls.CSVFILE, index=False)\n",
    "                \n",
    "    @classmethod\n",
    "    def add_entry(cls, date, amount, category, description):\n",
    "        new_entry = {'date': date,\n",
    "                     'amount': amount,\n",
    "                     'category': category,\n",
    "                     'description': description}\n",
    "\n",
    "        with open(cls.CSVFILE, 'a', newline='') as csvfile:\n",
    "            writer = csv.DictWriter(csvfile, fieldnames=cls.COLUMNS)\n",
    "            writer.writerow(new_entry)\n",
    "        print('Entry added successfully')\n",
    "\n"
   ]
  },
  {
   "cell_type": "code",
   "execution_count": 10,
   "metadata": {},
   "outputs": [
    {
     "name": "stdout",
     "output_type": "stream",
     "text": [
      "Entry added successfully\n"
     ]
    },
    {
     "ename": "",
     "evalue": "",
     "output_type": "error",
     "traceback": [
      "\u001b[1;31mThe Kernel crashed while executing code in the current cell or a previous cell. \n",
      "\u001b[1;31mPlease review the code in the cell(s) to identify a possible cause of the failure. \n",
      "\u001b[1;31mClick <a href='https://aka.ms/vscodeJupyterKernelCrash'>here</a> for more info. \n",
      "\u001b[1;31mView Jupyter <a href='command:jupyter.viewOutput'>log</a> for further details."
     ]
    }
   ],
   "source": [
    "# Example usage\n",
    "CSV.initialize_csv()\n",
    "\n",
    "CSV.add_entry('2021-01-01', 100, 'income', 'Salary')"
   ]
  },
  {
   "cell_type": "code",
   "execution_count": null,
   "metadata": {},
   "outputs": [],
   "source": []
  }
 ],
 "metadata": {
  "kernelspec": {
   "display_name": "py311",
   "language": "python",
   "name": "python3"
  },
  "language_info": {
   "codemirror_mode": {
    "name": "ipython",
    "version": 3
   },
   "file_extension": ".py",
   "mimetype": "text/x-python",
   "name": "python",
   "nbconvert_exporter": "python",
   "pygments_lexer": "ipython3",
   "version": "3.11.9"
  }
 },
 "nbformat": 4,
 "nbformat_minor": 2
}
